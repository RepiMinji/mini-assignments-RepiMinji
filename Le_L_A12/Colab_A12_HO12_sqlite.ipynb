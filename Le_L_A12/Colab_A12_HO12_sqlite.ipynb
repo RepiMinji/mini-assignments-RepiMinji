{
  "cells": [
    {
      "cell_type": "markdown",
      "metadata": {
        "id": "ZgULxg_0AuZL"
      },
      "source": [
        "###**Q1**.  Use Lucidchart to create an Entity Relationship Diagram (ERD) for the following tables representing a customer order tracking system:\n",
        "\n",
        "Tables and fields:\n",
        "1. product:\n",
        "    - product_id: INTEGER (Primary key)\n",
        "    - name: TEXT not null\n",
        "    - price: REAL\n",
        "\n",
        "\n",
        "2. customer:\n",
        "    - customer_id: INTEGER (Primary key)\n",
        "    - name: TEXT not null\n",
        "    - email: TEXT not null\n",
        "\n",
        "\n",
        "3. purchase_order:\n",
        "    - order_id: INTEGER (Primary key)\n",
        "    - customer_id: INTEGER (Foreign key)\n",
        "    - date: TEXT not null (\"YYYY-MM-DD\")\n",
        "\n",
        "\n",
        "4. order_item:\n",
        "    - order_id: INTEGER (Foreign key)\n",
        "    - product_id: INTEGER (Foreign key)\n",
        "    - quantity: INTEGER\n",
        "    \n",
        "\n",
        "\n",
        "Export the ERD as PDF and submit it in Canvas."
      ]
    },
    {
      "cell_type": "markdown",
      "metadata": {
        "id": "PZJtgMx7AuZO"
      },
      "source": [
        "###**Q2**. Create SQLite tables and load data\n",
        "1. Here are the csv files for the data for the four tables:\n",
        "   - product: https://raw.githubusercontent.com/csbfx/cs133/main/product.csv\n",
        "   - customer: https://raw.githubusercontent.com/csbfx/cs133/main/customer.csv\n",
        "   - order_item: https://raw.githubusercontent.com/csbfx/cs133/main/order_item.csv\n",
        "   - purchase_order: https://raw.githubusercontent.com/csbfx/cs133/main/purchase_order.csv\n",
        "2. In this notebook, create the database and save it in a file called `store.db`, and create the four tables as described above.\n",
        "3. Load the data in the csv files into the corresponding table.\n",
        "4. Commit so that the data loaded to the tables to officially written to the tables.\n",
        "5. Execute a query SELECT * from each table to make sure the data are properly loaded.\n",
        "6. Execute a query using SELECT statement that queries with JOIN tables to find the purchase date, the products and quantities that a particular customer has purchased."
      ]
    },
    {
      "cell_type": "code",
      "execution_count": 4,
      "metadata": {
        "id": "w4xnppG8AuZP"
      },
      "outputs": [],
      "source": [
        "# 2.2 Create the database and save it in a file called store.db, and create the four tables as described above.\n",
        "# Your code here . . .\n",
        "import sqlite3\n",
        "conn = sqlite3.connect('store.db')\n",
        "import pandas as pd\n",
        "c = conn.cursor()\n",
        "\n",
        "SQL_CREATE_TABLE = '''CREATE TABLE IF NOT EXISTS product (\n",
        "    product_id INTEGER PRIMARY KEY,\n",
        "    name TEXT NOT NULL,\n",
        "    price REAL\n",
        "    )'''\n",
        "c.execute(SQL_CREATE_TABLE)\n",
        "\n",
        "SQL_CREATE_TABLE = '''CREATE TABLE IF NOT EXISTS customer (\n",
        "    customer_id INTEGER PRIMARY KEY,\n",
        "    name TEXT NOT NULL,\n",
        "    email TEXT NOT NULL\n",
        "    )'''\n",
        "c.execute(SQL_CREATE_TABLE)\n",
        "\n",
        "SQL_CREATE_TABLE = '''CREATE TABLE IF NOT EXISTS order_item (\n",
        "    order_id INTEGER PRIMARY KEY,\n",
        "    product_id INTEGER NOT NULL,\n",
        "    quantity INTEGER NOT NULL\n",
        ")'''\n",
        "c.execute(SQL_CREATE_TABLE)\n",
        "\n",
        "SQL_CREATE_TABLE = '''CREATE TABLE IF NOT EXISTS purchase_order (\n",
        "    order_id INTEGER,\n",
        "    customer_id INTEGER NOT NULL,\n",
        "    date TEXT NOT NULL\n",
        "    )'''\n",
        "c.execute(SQL_CREATE_TABLE)\n"
      ]
    },
    {
      "cell_type": "code",
      "source": [
        "# 2.3 Load the data in the csv files into the corresponding table.\n",
        "# Your code here . . .\n",
        "product = pd.read_csv('https://raw.githubusercontent.com/csbfx/cs133/main/product.csv')\n",
        "customer = pd.read_csv('https://raw.githubusercontent.com/csbfx/cs133/main/customer.csv')\n",
        "order_item = pd.read_csv('https://raw.githubusercontent.com/csbfx/cs133/main/order_item.csv')\n",
        "purchase_order = pd.read_csv('https://raw.githubusercontent.com/csbfx/cs133/main/purchase_order.csv')\n",
        "product.to_sql('product', conn, if_exists='replace', index = False)\n",
        "customer.to_sql('customer', conn, if_exists='replace', index = False)\n",
        "order_item.to_sql('order_item', conn, if_exists='replace', index = False)\n",
        "purchase_order.to_sql('purchase_order', conn, if_exists='replace', index = False)"
      ],
      "metadata": {
        "id": "WPRhy-dSBY-c",
        "colab": {
          "base_uri": "https://localhost:8080/"
        },
        "outputId": "f9a76621-585e-4c83-988c-525655b43904"
      },
      "execution_count": 7,
      "outputs": [
        {
          "output_type": "execute_result",
          "data": {
            "text/plain": [
              "3"
            ]
          },
          "metadata": {},
          "execution_count": 7
        }
      ]
    },
    {
      "cell_type": "code",
      "source": [
        "# 2.4 Commit so that the data loaded to the tables to officially written to the tables.\n",
        "# Your code here . . .\n",
        "conn.commit()"
      ],
      "metadata": {
        "id": "VIBaGXPABbVO"
      },
      "execution_count": 8,
      "outputs": []
    },
    {
      "cell_type": "code",
      "source": [
        "# 2.5 Execute a query SELECT * from each table to make sure the data are properly loaded.\n",
        "# Your code here . . .\n",
        "c.execute('''SELECT * FROM product''')\n",
        "print(\"product: \" + str(c.fetchall()))\n",
        "c.execute('''SELECT * FROM customer''')\n",
        "print(\"customer: \" + str(c.fetchall()))\n",
        "c.execute('''SELECT * FROM order_item''')\n",
        "print(\"order item: \" + str(c.fetchall()))\n",
        "c.execute('''SELECT * FROM purchase_order''')\n",
        "print(\"purchase order: \" + str(c.fetchall()))"
      ],
      "metadata": {
        "id": "wPHFswfYBgan",
        "colab": {
          "base_uri": "https://localhost:8080/"
        },
        "outputId": "5e5eb740-fd19-4982-9fc2-28decacbb4f8"
      },
      "execution_count": 14,
      "outputs": [
        {
          "output_type": "stream",
          "name": "stdout",
          "text": [
            "product: [(0, 'bicycle', 400), (1, 'helmet', 45), (2, 'gloves', 23), (3, 'chain', 48)]\n",
            "customer: [(0, 'Wendy Lee', 'wlee@bike.com'), (1, 'Jason Brown', 'jb@speed.com'), (2, 'Harry Potter', 'hp@hogwarts.edu'), (3, 'Godric Gryffindor', 'gg@hogwards.edu')]\n",
            "order item: [(0, 0, 1), (0, 1, 1), (1, 2, 2), (1, 3, 1)]\n",
            "purchase order: [(0, 0, '2020-10-19'), (1, 0, '2020-10-20'), (2, 1, '2020-10-20')]\n"
          ]
        }
      ]
    },
    {
      "cell_type": "code",
      "source": [
        "# 2.6 Execute a query using SELECT statement that queries with JOIN tables to find the purchase date,\n",
        "#    the products and quantities that a particular customer has purchased.\n",
        "# Your code here . . .\n",
        "c.execute('''\n",
        "SELECT date, product.name, quantity\n",
        "FROM purchase_order, product, customer\n",
        "JOIN order_item ON purchase_order.order_id = order_item.order_id\n",
        "WHERE customer.name = 'Wendy Lee' AND product.product_id = order_item.product_id\n",
        "''')\n",
        "res = c.fetchall()\n",
        "for row in res:\n",
        "    print(row)\n"
      ],
      "metadata": {
        "id": "armxZeMPBmSe",
        "colab": {
          "base_uri": "https://localhost:8080/"
        },
        "outputId": "5ca203bf-d660-44ee-ca15-cea1dfb17ae4"
      },
      "execution_count": 47,
      "outputs": [
        {
          "output_type": "stream",
          "name": "stdout",
          "text": [
            "('2020-10-19', 'bicycle', 1)\n",
            "('2020-10-19', 'helmet', 1)\n",
            "('2020-10-20', 'gloves', 2)\n",
            "('2020-10-20', 'chain', 1)\n"
          ]
        }
      ]
    },
    {
      "cell_type": "code",
      "source": [],
      "metadata": {
        "id": "xt-p9FwbI50m"
      },
      "execution_count": null,
      "outputs": []
    }
  ],
  "metadata": {
    "kernelspec": {
      "display_name": "Python 3",
      "language": "python",
      "name": "python3"
    },
    "language_info": {
      "codemirror_mode": {
        "name": "ipython",
        "version": 3
      },
      "file_extension": ".py",
      "mimetype": "text/x-python",
      "name": "python",
      "nbconvert_exporter": "python",
      "pygments_lexer": "ipython3",
      "version": "3.7.6"
    },
    "colab": {
      "provenance": []
    }
  },
  "nbformat": 4,
  "nbformat_minor": 0
}